{
 "cells": [
  {
   "cell_type": "code",
   "execution_count": 49,
   "metadata": {
    "collapsed": false
   },
   "outputs": [],
   "source": [
    "import numpy as np\n",
    "from sklearn.metrics import accuracy_score\n",
    "import json\n",
    "\n",
    "import data_loader\n",
    "#import decision_tree"
   ]
  },
  {
   "cell_type": "code",
   "execution_count": 50,
   "metadata": {
    "collapsed": true
   },
   "outputs": [],
   "source": [
    "# load data\n",
    "X_train, X_test, y_train, y_test = data_loader.discrete_2D_iris_dataset()\n"
   ]
  },
  {
   "cell_type": "code",
   "execution_count": 55,
   "metadata": {
    "collapsed": true
   },
   "outputs": [],
   "source": [
    "def norm(word):\n",
    "    return np.sqrt(np.sum(np.square(word)))"
   ]
  },
  {
   "cell_type": "code",
   "execution_count": 56,
   "metadata": {
    "collapsed": true
   },
   "outputs": [],
   "source": [
    "def cos(word1,word2):\n",
    "    return np.dot(word1,word2)/(norm(word1)*norm(word2))"
   ]
  },
  {
   "cell_type": "code",
   "execution_count": 58,
   "metadata": {
    "collapsed": true
   },
   "outputs": [],
   "source": [
    "beer = np.array([8,3,1,1])\n",
    "memory = np.array([0,6,3,0])\n",
    "wine = np.array([4,2,0,2])\n",
    "keyboard = np.array([1,10,4,1])\n",
    "words = [beer,memory,wine,keyboard]\n",
    "names = [\"beer\",\"memory\",\"wine\",\"keyboard\"]"
   ]
  },
  {
   "cell_type": "code",
   "execution_count": 59,
   "metadata": {
    "collapsed": false
   },
   "outputs": [
    {
     "name": "stdout",
     "output_type": "stream",
     "text": [
      "beer beer 0.9999999999999998\n",
      "beer memory 0.36147844564602555\n",
      "beer wine 0.9428090415820634\n",
      "beer keyboard 0.4570848429693511\n",
      "memory beer 0.36147844564602555\n",
      "memory memory 0.9999999999999999\n",
      "memory wine 0.36514837167011077\n",
      "memory keyboard 0.9880643635111419\n",
      "wine beer 0.9428090415820634\n",
      "wine memory 0.36514837167011077\n",
      "wine wine 1.0000000000000002\n",
      "wine keyboard 0.4885699182018388\n",
      "keyboard beer 0.4570848429693511\n",
      "keyboard memory 0.9880643635111419\n",
      "keyboard wine 0.4885699182018388\n",
      "keyboard keyboard 1.0\n"
     ]
    }
   ],
   "source": [
    "for name1, word1 in zip(names,words):\n",
    "    for name2, word2 in zip(names,words):\n",
    "        print(name1,name2,cos(word1,word2))"
   ]
  },
  {
   "cell_type": "code",
   "execution_count": null,
   "metadata": {
    "collapsed": true
   },
   "outputs": [],
   "source": []
  }
 ],
 "metadata": {
  "kernelspec": {
   "display_name": "Python 3",
   "language": "python",
   "name": "python3"
  },
  "language_info": {
   "codemirror_mode": {
    "name": "ipython",
    "version": 3
   },
   "file_extension": ".py",
   "mimetype": "text/x-python",
   "name": "python",
   "nbconvert_exporter": "python",
   "pygments_lexer": "ipython3",
   "version": "3.5.1"
  }
 },
 "nbformat": 4,
 "nbformat_minor": 1
}
